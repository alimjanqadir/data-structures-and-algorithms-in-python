{
 "metadata": {
  "language_info": {
   "codemirror_mode": {
    "name": "ipython",
    "version": 3
   },
   "file_extension": ".py",
   "mimetype": "text/x-python",
   "name": "python",
   "nbconvert_exporter": "python",
   "pygments_lexer": "ipython3",
   "version": "3.8.2"
  },
  "orig_nbformat": 2,
  "kernelspec": {
   "name": "python382jvsc74a57bd031f2aee4e71d21fbe5cf8b01ff0e069b9275f58929596ceb00d14d90e3e16cd6",
   "display_name": "Python 3.8.2 64-bit"
  },
  "metadata": {
   "interpreter": {
    "hash": "31f2aee4e71d21fbe5cf8b01ff0e069b9275f58929596ceb00d14d90e3e16cd6"
   }
  }
 },
 "nbformat": 4,
 "nbformat_minor": 2,
 "cells": [
  {
   "cell_type": "code",
   "execution_count": 93,
   "metadata": {},
   "outputs": [],
   "source": [
    "def print_sum_and_product(array):\n",
    "    sum = 0\n",
    "    product = 1\n",
    "    for item in array:\n",
    "        sum += item\n",
    "    for item in array:\n",
    "        product *= item\n",
    "    print(f\"{sum}, {product}\")"
   ]
  },
  {
   "cell_type": "code",
   "execution_count": 94,
   "metadata": {},
   "outputs": [
    {
     "output_type": "stream",
     "name": "stdout",
     "text": [
      "12, 40\n"
     ]
    }
   ],
   "source": [
    "print_sum_and_product([2, 4, 5, 1])"
   ]
  },
  {
   "source": [
    "This function takes O(N), the fact we iterate the array twice doesn't matter."
   ],
   "cell_type": "markdown",
   "metadata": {}
  },
  {
   "cell_type": "code",
   "execution_count": 175,
   "metadata": {},
   "outputs": [],
   "source": [
    "def print_pairs(n):\n",
    "    for i in range(n):\n",
    "        for j in range(n):\n",
    "            print(i, j, sep=\",\", end=\" \")\n",
    "        print()"
   ]
  },
  {
   "cell_type": "code",
   "execution_count": 176,
   "metadata": {},
   "outputs": [
    {
     "output_type": "stream",
     "name": "stdout",
     "text": [
      "0,0 0,1 0,2 0,3 0,4 \n1,0 1,1 1,2 1,3 1,4 \n2,0 2,1 2,2 2,3 2,4 \n3,0 3,1 3,2 3,3 3,4 \n4,0 4,1 4,2 4,3 4,4 \n"
     ]
    }
   ],
   "source": [
    "print_pairs(5)"
   ]
  },
  {
   "source": [
    "Inner loop has O(N) iteration, and it called N times so the runtime is O(N^2)."
   ],
   "cell_type": "markdown",
   "metadata": {}
  },
  {
   "cell_type": "code",
   "execution_count": 224,
   "metadata": {},
   "outputs": [],
   "source": [
    "def print_half_pairs(n):\n",
    "    for i in range(n):\n",
    "        for j in range(i + 1):\n",
    "            print(i, j, sep=\",\", end=\" \")\n",
    "        print()\n"
   ]
  },
  {
   "cell_type": "code",
   "execution_count": 226,
   "metadata": {},
   "outputs": [
    {
     "output_type": "stream",
     "name": "stdout",
     "text": [
      "0,0 \n1,0 1,1 \n2,0 2,1 2,2 \n3,0 3,1 3,2 3,3 \n4,0 4,1 4,2 4,3 4,4 \n"
     ]
    }
   ],
   "source": [
    "print_half_pairs(5)"
   ]
  },
  {
   "source": [
    "This is very similar to ```print_pairs``` but inner loop runs i + 1 times. \n",
    "\n",
    "if n is 5 the inner loop will iterate, 1 + 2 + 3 + 4 + 5 steps, which means it's sum of 1 to 5, to be more generic it's sum of 1 to n.\n",
    "\n",
    "We know outer loop will go through n times, then inner loop would be half of it's length which is n / 2, and overall runtime would be n * n / 2.\n",
    "\n",
    "n * n / 2 is O(n^2).\n"
   ],
   "cell_type": "markdown",
   "metadata": {}
  },
  {
   "cell_type": "code",
   "execution_count": 7,
   "metadata": {},
   "outputs": [],
   "source": [
    "def print_pair_of_two_array(a, b):\n",
    "    for x in a:\n",
    "        for y in b:\n",
    "            print(x, y, sep=\",\", end=\" \")\n",
    "        print()"
   ]
  },
  {
   "cell_type": "code",
   "execution_count": 11,
   "metadata": {},
   "outputs": [
    {
     "output_type": "stream",
     "name": "stdout",
     "text": [
      "1,1 1,2 1,3 \n2,1 2,2 2,3 \n3,1 3,2 3,3 \n4,1 4,2 4,3 \n5,1 5,2 5,3 \n"
     ]
    }
   ],
   "source": [
    "print_pair_of_two_array([1, 2, 3, 4, 5], [1, 2, 3])"
   ]
  },
  {
   "source": [
    "For each item of input a, inner loop iterates len of array b.\n",
    "\n",
    "The runtime would be O(ab).\n",
    "\n",
    "It's very common mistake that run time would consider O(n^2) because of the inner loop. But look carefully there are two inputs not one, each input matter."
   ],
   "cell_type": "markdown",
   "metadata": {}
  },
  {
   "source": [
    "How about this code?"
   ],
   "cell_type": "markdown",
   "metadata": {}
  },
  {
   "cell_type": "code",
   "execution_count": 13,
   "metadata": {},
   "outputs": [],
   "source": [
    "def print_pair_of_two_array_1(a, b):\n",
    "    for x in a:\n",
    "        for y in b:\n",
    "            for z in range(10000):\n",
    "                print(x, y, z, sep=\",\", end=\" \")"
   ]
  },
  {
   "source": [
    "It still O(ab), 1000 still a constant."
   ],
   "cell_type": "markdown",
   "metadata": {}
  },
  {
   "source": [
    "The folling code reverses an array, what is the runtime would be?"
   ],
   "cell_type": "markdown",
   "metadata": {}
  },
  {
   "cell_type": "code",
   "execution_count": 21,
   "metadata": {},
   "outputs": [],
   "source": [
    "def reverse_array(array):\n",
    "    length = len(array)\n",
    "    for i in range(int(length / 2)):\n",
    "        tail = length - i - 1\n",
    "        temp = array[i]\n",
    "        array[i] = array[tail]\n",
    "        array[tail] = temp\n",
    "    return array\n"
   ]
  },
  {
   "cell_type": "code",
   "execution_count": 23,
   "metadata": {},
   "outputs": [
    {
     "output_type": "execute_result",
     "data": {
      "text/plain": [
       "[5, 4, 3, 2, 1]"
      ]
     },
     "metadata": {},
     "execution_count": 23
    }
   ],
   "source": [
    "reverse_array([1, 2, 3, 4, 5])"
   ]
  },
  {
   "source": [
    "The fact that it only iterate half of the array doesn't impact big O time."
   ],
   "cell_type": "markdown",
   "metadata": {}
  },
  {
   "cell_type": "code",
   "execution_count": null,
   "metadata": {},
   "outputs": [],
   "source": []
  }
 ]
}